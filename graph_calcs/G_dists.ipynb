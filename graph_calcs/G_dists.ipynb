{
 "cells": [
  {
   "cell_type": "code",
   "execution_count": null,
   "metadata": {},
   "outputs": [],
   "source": [
    "import pickle\n",
    "\n",
    "with open('/home/gk/Downloads/Telegram Desktop/pair_dists_reversed_2.pkl', 'rb') as f:\n",
    "    my_dict = pickle.load(f)"
   ]
  },
  {
   "cell_type": "code",
   "execution_count": null,
   "metadata": {},
   "outputs": [],
   "source": [
    "my_dict"
   ]
  },
  {
   "cell_type": "code",
   "execution_count": null,
   "metadata": {},
   "outputs": [],
   "source": [
    "import networkx as nx\n",
    "\n",
    "G = nx.read_graphml('/home/gk/code/migration_project/G12.graphml')"
   ]
  },
  {
   "cell_type": "code",
   "execution_count": null,
   "metadata": {},
   "outputs": [],
   "source": [
    "G.nodes(data=True)"
   ]
  },
  {
   "cell_type": "code",
   "execution_count": null,
   "metadata": {},
   "outputs": [],
   "source": [
    "import geopandas as gpd\n",
    "from shapely.wkt import loads\n",
    "\n",
    "# assuming you already have a graph G with node data that includes a \"geometry\" attribute\n",
    "# use the nodes method from networkx to get a NodeDataView object\n",
    "nodedata = G.nodes(data=True)\n",
    "\n",
    "# create a list of dictionaries to store the attributes of each node\n",
    "node_attrs = []\n",
    "for n, data in nodedata:\n",
    "    node_dict = data.copy()\n",
    "    node_dict[\"nodeID\"] = n\n",
    "    node_dict[\"geometry\"] = loads(node_dict[\"geometry\"])\n",
    "    node_attrs.append(node_dict)\n",
    "\n",
    "# create a GeoDataFrame from the list of node attributes, using the \"geometry\" attribute as the geometry\n",
    "nodes_gdf = gpd.GeoDataFrame(node_attrs, geometry='geometry', crs=4326)"
   ]
  },
  {
   "cell_type": "code",
   "execution_count": null,
   "metadata": {},
   "outputs": [],
   "source": [
    "nodes_gdf"
   ]
  },
  {
   "cell_type": "code",
   "execution_count": null,
   "metadata": {},
   "outputs": [],
   "source": [
    "import pandas as pd\n",
    "import geopandas as gpd\n",
    "from shapely.geometry import LineString\n",
    "from tqdm import tqdm\n",
    "\n",
    "dist_dict = my_dict\n",
    "gdf = nodes_gdf\n",
    "\n",
    "# create a list to store the lines\n",
    "lines = []\n",
    "\n",
    "# loop through the keys and values in the dictionary\n",
    "for k, v in tqdm(dist_dict.items()):\n",
    "    # check if the distance is less than 100 km\n",
    "    if v < 100:\n",
    "        # get the two points from the gdf based on the indexes in the key tuple\n",
    "        point1 = gdf.iloc[k[0]][\"geometry\"]\n",
    "        point2 = gdf.iloc[k[1]][\"geometry\"]\n",
    "        # create a LineString between the two points and append it to the lines list\n",
    "        lines.append(LineString([point1, point2]))\n",
    "\n",
    "# create a new gdf with the lines\n",
    "new_gdf = gpd.GeoDataFrame(\n",
    "    pd.DataFrame(\n",
    "        {\"distance\": [dist_dict[k] for k in dist_dict.keys() if dist_dict[k] < 100]}\n",
    "    ),\n",
    "    geometry=lines,\n",
    ")\n",
    "\n",
    "# save the new gdf as a geojson file\n",
    "new_gdf.to_file(\"new_gdf_2.geojson\", driver=\"GeoJSON\")"
   ]
  }
 ],
 "metadata": {
  "kernelspec": {
   "display_name": "venv",
   "language": "python",
   "name": "python3"
  },
  "language_info": {
   "codemirror_mode": {
    "name": "ipython",
    "version": 3
   },
   "file_extension": ".py",
   "mimetype": "text/x-python",
   "name": "python",
   "nbconvert_exporter": "python",
   "pygments_lexer": "ipython3",
   "version": "3.8.10"
  },
  "orig_nbformat": 4
 },
 "nbformat": 4,
 "nbformat_minor": 2
}
