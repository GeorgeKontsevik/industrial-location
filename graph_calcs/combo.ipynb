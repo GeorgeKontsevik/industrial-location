{
 "cells": [
  {
   "cell_type": "code",
   "execution_count": null,
   "metadata": {},
   "outputs": [],
   "source": [
    "import networkx as nx"
   ]
  },
  {
   "cell_type": "code",
   "execution_count": null,
   "metadata": {},
   "outputs": [],
   "source": [
    "G = nx.read_graphml('G_2021.graphml')"
   ]
  },
  {
   "cell_type": "code",
   "execution_count": null,
   "metadata": {},
   "outputs": [],
   "source": [
    "G.is_directed()"
   ]
  },
  {
   "cell_type": "code",
   "execution_count": null,
   "metadata": {},
   "outputs": [],
   "source": [
    "# G = G.to_undirected()"
   ]
  },
  {
   "cell_type": "code",
   "execution_count": null,
   "metadata": {},
   "outputs": [],
   "source": [
    "# G.is_directed()"
   ]
  },
  {
   "cell_type": "code",
   "execution_count": null,
   "metadata": {},
   "outputs": [],
   "source": [
    "import pycombo\n",
    "import networkx as nx\n",
    "\n",
    "partition, modularity = pycombo.execute(\n",
    "    G, weight=\"weight\", return_modularity=True, random_seed=7575\n",
    ")"
   ]
  },
  {
   "cell_type": "code",
   "execution_count": null,
   "metadata": {},
   "outputs": [],
   "source": [
    "print(f'Partition modularity: {modularity:.5f}')"
   ]
  },
  {
   "cell_type": "code",
   "execution_count": null,
   "metadata": {},
   "outputs": [],
   "source": [
    "G.nodes(data=True)"
   ]
  },
  {
   "cell_type": "code",
   "execution_count": null,
   "metadata": {},
   "outputs": [],
   "source": [
    "from tqdm import tqdm\n",
    "\n",
    "for node in tqdm(G.nodes()):\n",
    "    G.nodes[node]['group'] = partition[node]"
   ]
  },
  {
   "cell_type": "code",
   "execution_count": null,
   "metadata": {},
   "outputs": [],
   "source": [
    "nx.write_graphml(G, 'G_dists_clusters3.graphml')"
   ]
  },
  {
   "cell_type": "code",
   "execution_count": null,
   "metadata": {},
   "outputs": [],
   "source": [
    "# --------------------------------------------------------------\n",
    "# Дальше просто делаю где из точек и ребер. Не Комбо."
   ]
  },
  {
   "cell_type": "code",
   "execution_count": null,
   "metadata": {},
   "outputs": [],
   "source": [
    "import momepy as mp"
   ]
  },
  {
   "cell_type": "code",
   "execution_count": null,
   "metadata": {},
   "outputs": [],
   "source": [
    "from shapely import Point\n",
    "from tqdm import tqdm\n",
    "from shapely.wkt import loads\n",
    "\n",
    "for k,v in tqdm(dict(G.nodes(data=True)).items()):\n",
    "    try:\n",
    "        G.nodes[k]['x'], G.nodes[k]['y'] = loads(v['geometry']).coords.xy\n",
    "        G.nodes[k]['x'] = float(G.nodes[k]['x'][0])\n",
    "        G.nodes[k]['y'] = float(G.nodes[k]['y'][0])\n",
    "        G.nodes[k]['is_valid_geom'] = True\n",
    "\n",
    "    except IndexError:\n",
    "        G.nodes[k]['is_valid_geom'] = False\n",
    "\n",
    "    "
   ]
  },
  {
   "cell_type": "code",
   "execution_count": null,
   "metadata": {},
   "outputs": [],
   "source": [
    "import geopandas as gpd\n",
    "import networkx as nx\n",
    "\n",
    "# assuming you already have a graph G with node data that includes a \"geometry\" attribute\n",
    "# use the nodes method from networkx to get a NodeDataView object\n",
    "nodedata = G.nodes(data=True)\n",
    "\n",
    "# create a list of dictionaries to store the attributes of each node\n",
    "c = 0\n",
    "node_attrs = []\n",
    "for n, data in nodedata:\n",
    "    \n",
    "    node_dict = data.copy()\n",
    "    if 'geometry' in node_dict.keys():\n",
    "        node_dict[\"nodeID\"] = n\n",
    "        node_dict[\"geometry\"] = loads(node_dict[\"geometry\"])\n",
    "        node_attrs.append(node_dict)\n",
    "\n",
    "        if n == 'Портовая особая экономическая зона':\n",
    "            print(node_dict)\n",
    "    else:\n",
    "        c+=1\n",
    "print(c, 'invaalid geoms')\n",
    "\n",
    "# create a GeoDataFrame from the list of node attributes, using the \"geometry\" attribute as the geometry\n",
    "nodes_gdf = gpd.GeoDataFrame(node_attrs, geometry='geometry', crs=4326)"
   ]
  },
  {
   "cell_type": "code",
   "execution_count": null,
   "metadata": {},
   "outputs": [],
   "source": [
    "edgedata"
   ]
  },
  {
   "cell_type": "code",
   "execution_count": null,
   "metadata": {},
   "outputs": [],
   "source": [
    "# nodes_gdf = nodes_gdf[nodes_gdf['is_valid_geom']==True]"
   ]
  },
  {
   "cell_type": "code",
   "execution_count": null,
   "metadata": {},
   "outputs": [],
   "source": [
    "nodes_gdf.head()"
   ]
  },
  {
   "cell_type": "code",
   "execution_count": null,
   "metadata": {},
   "outputs": [],
   "source": [
    "nodes_gdf.drop(columns='is_valid_geom', inplace=True)"
   ]
  },
  {
   "cell_type": "code",
   "execution_count": null,
   "metadata": {},
   "outputs": [],
   "source": [
    "nodes_gdf.to_file('nodes_gdf_2021.geojson')"
   ]
  },
  {
   "cell_type": "code",
   "execution_count": null,
   "metadata": {},
   "outputs": [],
   "source": [
    "nodes_gdf.crs"
   ]
  },
  {
   "cell_type": "code",
   "execution_count": null,
   "metadata": {},
   "outputs": [],
   "source": [
    "import geopandas as gpd\n",
    "import networkx as nx\n",
    "\n",
    "import pandas as pd\n",
    "\n",
    "# assuming you already have a graph G with node data that includes a \"geometry\" attribute\n",
    "# use the nodes method from networkx to get a NodeDataView object\n",
    "edgedata = G.edges(data=True)\n",
    "\n",
    "# create a list of dictionaries to store the attributes of each node\n",
    "c = 0\n",
    "edge_attrs = []\n",
    "for c1, c2, data in edgedata:\n",
    "    \n",
    "    edge_dict = {}\n",
    "    \n",
    "    edge_dict[\"city_1\"] = c1\n",
    "    edge_dict[\"city_2\"] = c2\n",
    "    edge_dict.update(data)\n",
    "    edge_attrs.append(edge_dict)\n",
    "    \n",
    "# create a GeoDataFrame from the list of node attributes, using the \"geometry\" attribute as the geometry\n",
    "edge_gdf = pd.DataFrame(edge_attrs)"
   ]
  },
  {
   "cell_type": "code",
   "execution_count": null,
   "metadata": {},
   "outputs": [],
   "source": [
    "nodes_gdf.head()"
   ]
  },
  {
   "cell_type": "code",
   "execution_count": null,
   "metadata": {},
   "outputs": [],
   "source": [
    "edge_gdf.iloc[753, :]"
   ]
  },
  {
   "cell_type": "code",
   "execution_count": null,
   "metadata": {},
   "outputs": [],
   "source": [
    "from shapely.geometry import LineString\n",
    "from tqdm import tqdm\n",
    "tqdm.pandas()\n",
    "\n",
    "def set_edge_geom(x):\n",
    "    return LineString([nodes_gdf.loc[nodes_gdf[\"nodeID\"]==x.city_1, \"geometry\"].item(), nodes_gdf.loc[nodes_gdf[\"nodeID\"]==x.city_2, \"geometry\"].item()])\n",
    "\n",
    "edge_gdf['geometry'] = edge_gdf.progress_apply(lambda x: set_edge_geom(x), axis=1)"
   ]
  },
  {
   "cell_type": "code",
   "execution_count": null,
   "metadata": {},
   "outputs": [],
   "source": [
    "edge_gdf = gpd.GeoDataFrame(data=edge_gdf, geometry='geometry', crs=4326)"
   ]
  },
  {
   "cell_type": "code",
   "execution_count": null,
   "metadata": {},
   "outputs": [],
   "source": [
    "edge_gdf.crs"
   ]
  },
  {
   "cell_type": "code",
   "execution_count": null,
   "metadata": {},
   "outputs": [],
   "source": [
    "edge_gdf.to_file('edges_gdf_2021.geojson')"
   ]
  }
 ],
 "metadata": {
  "kernelspec": {
   "display_name": "venv",
   "language": "python",
   "name": "python3"
  },
  "language_info": {
   "codemirror_mode": {
    "name": "ipython",
    "version": 3
   },
   "file_extension": ".py",
   "mimetype": "text/x-python",
   "name": "python",
   "nbconvert_exporter": "python",
   "pygments_lexer": "ipython3",
   "version": "3.8.10"
  },
  "orig_nbformat": 4
 },
 "nbformat": 4,
 "nbformat_minor": 2
}
