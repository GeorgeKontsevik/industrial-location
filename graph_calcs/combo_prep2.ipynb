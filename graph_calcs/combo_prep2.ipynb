{
 "cells": [
  {
   "cell_type": "code",
   "execution_count": null,
   "metadata": {},
   "outputs": [],
   "source": []
  },
  {
   "cell_type": "code",
   "execution_count": null,
   "metadata": {},
   "outputs": [],
   "source": [
    "# my_dict"
   ]
  },
  {
   "cell_type": "code",
   "execution_count": null,
   "metadata": {},
   "outputs": [],
   "source": [
    "import networkx as nx\n",
    "\n",
    "G = nx.read_graphml('/home/gk/code/migration_project/G_dists_clusters3.graphml')"
   ]
  },
  {
   "cell_type": "code",
   "execution_count": null,
   "metadata": {},
   "outputs": [],
   "source": [
    "import networkx as nx\n",
    "\n",
    "G1 = nx.read_graphml('/home/gk/code/migration_project/G12.graphml')"
   ]
  },
  {
   "cell_type": "code",
   "execution_count": null,
   "metadata": {},
   "outputs": [],
   "source": [
    "import geopandas as gpd\n",
    "from shapely.wkt import loads\n",
    "\n",
    "# assuming you already have a graph G with node data that includes a \"geometry\" attribute\n",
    "# use the nodes method from networkx to get a NodeDataView object\n",
    "nodedata = G1.nodes(data=True)\n",
    "\n",
    "# create a list of dictionaries to store the attributes of each node\n",
    "node_attrs = []\n",
    "for n, data in nodedata:\n",
    "    node_dict = data.copy()\n",
    "    node_dict[\"nodeID\"] = n\n",
    "    node_dict[\"geometry\"] = loads(node_dict[\"geometry\"])\n",
    "    node_attrs.append(node_dict)\n",
    "\n",
    "# create a GeoDataFrame from the list of node attributes, using the \"geometry\" attribute as the geometry\n",
    "nodes_gdf = gpd.GeoDataFrame(node_attrs, geometry='geometry', crs=4326)"
   ]
  },
  {
   "cell_type": "code",
   "execution_count": null,
   "metadata": {},
   "outputs": [],
   "source": [
    "nodes_gdf.reset_index(drop=False, inplace=True)"
   ]
  },
  {
   "cell_type": "code",
   "execution_count": null,
   "metadata": {},
   "outputs": [],
   "source": [
    "nodes_gdf.rename(columns={'index': 'id'}, inplace=True)"
   ]
  },
  {
   "cell_type": "code",
   "execution_count": null,
   "metadata": {},
   "outputs": [],
   "source": [
    "nodes_gdf.head()"
   ]
  },
  {
   "cell_type": "code",
   "execution_count": null,
   "metadata": {},
   "outputs": [],
   "source": [
    "list(dict(G.nodes(data=True)).keys())[-10:]"
   ]
  },
  {
   "cell_type": "code",
   "execution_count": null,
   "metadata": {},
   "outputs": [],
   "source": [
    "import pandas as pd\n",
    "\n",
    "# assuming you already have a graph G with node data that includes a \"geometry\" attribute\n",
    "# use the nodes method from networkx to get a NodeDataView object\n",
    "nodedata2 = G.nodes(data=True)\n",
    "\n",
    "# create a list of dictionaries to store the attributes of each node\n",
    "node_attrs2 = []\n",
    "for n, data in nodedata2:\n",
    "    node_dict2 = data.copy()\n",
    "    node_dict2[\"nodeID\"] = n\n",
    "    node_dict2[\"group\"] = node_dict2[\"group\"]\n",
    "    node_attrs2.append(node_dict2)\n",
    "\n",
    "# create a GeoDataFrame from the list of node attributes, using the \"geometry\" attribute as the geometry\n",
    "nodes_gdf2 = pd.DataFrame(node_attrs2)\n",
    "nodes_gdf2.reset_index(drop=False, inplace=True)\n",
    "nodes_gdf2.rename(columns={'index': 'id'}, inplace=True)"
   ]
  },
  {
   "cell_type": "code",
   "execution_count": null,
   "metadata": {},
   "outputs": [],
   "source": [
    "nodes_gdf2"
   ]
  },
  {
   "cell_type": "code",
   "execution_count": null,
   "metadata": {},
   "outputs": [],
   "source": [
    "nodes_gdf2['nodeID'] = nodes_gdf2['nodeID'].astype(int)\n",
    "nodes_gdf['id'] = nodes_gdf['id'].astype(int)"
   ]
  },
  {
   "cell_type": "code",
   "execution_count": null,
   "metadata": {},
   "outputs": [],
   "source": [
    "nodes_gdf"
   ]
  },
  {
   "cell_type": "code",
   "execution_count": null,
   "metadata": {},
   "outputs": [],
   "source": [
    "new_gdf = pd.merge(left=nodes_gdf2, right=nodes_gdf, left_on='nodeID', right_on='id')"
   ]
  },
  {
   "cell_type": "code",
   "execution_count": null,
   "metadata": {},
   "outputs": [],
   "source": [
    "new_gdf = gpd.GeoDataFrame(data=new_gdf, geometry='geometry')"
   ]
  },
  {
   "cell_type": "code",
   "execution_count": null,
   "metadata": {},
   "outputs": [],
   "source": [
    "new_gdf.to_file('new_grouped_gdf_20.geojson')"
   ]
  },
  {
   "cell_type": "code",
   "execution_count": null,
   "metadata": {},
   "outputs": [],
   "source": []
  },
  {
   "cell_type": "code",
   "execution_count": null,
   "metadata": {},
   "outputs": [],
   "source": []
  },
  {
   "cell_type": "code",
   "execution_count": null,
   "metadata": {},
   "outputs": [],
   "source": [
    "# ----------------------------------------------------------------------------------------"
   ]
  },
  {
   "cell_type": "code",
   "execution_count": null,
   "metadata": {},
   "outputs": [],
   "source": [
    "import pickle\n",
    "\n",
    "with open('/home/gk/Downloads/Telegram Desktop/pair_dists_reversed_2.pkl', 'rb') as f:\n",
    "    my_dict = pickle.load(f)"
   ]
  },
  {
   "cell_type": "code",
   "execution_count": null,
   "metadata": {},
   "outputs": [],
   "source": [
    "import networkx as nx\n",
    "from tqdm import tqdm\n",
    "\n",
    "G2 = nx.Graph()\n",
    "\n",
    "for edge, weight in tqdm(my_dict.items()):\n",
    "    if weight < 20:\n",
    "        G2.add_edge(*edge, weight=weight)"
   ]
  },
  {
   "cell_type": "code",
   "execution_count": null,
   "metadata": {},
   "outputs": [],
   "source": [
    "nx.write_graphml(G2, 'G2.graphml')"
   ]
  }
 ],
 "metadata": {
  "kernelspec": {
   "display_name": "venv",
   "language": "python",
   "name": "python3"
  },
  "language_info": {
   "codemirror_mode": {
    "name": "ipython",
    "version": 3
   },
   "file_extension": ".py",
   "mimetype": "text/x-python",
   "name": "python",
   "nbconvert_exporter": "python",
   "pygments_lexer": "ipython3",
   "version": "3.8.10"
  },
  "orig_nbformat": 4
 },
 "nbformat": 4,
 "nbformat_minor": 2
}
